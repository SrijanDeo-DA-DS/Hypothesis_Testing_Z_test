{
 "cells": [
  {
   "cell_type": "code",
   "execution_count": 1,
   "id": "3e680e59",
   "metadata": {},
   "outputs": [],
   "source": [
    "import pandas as pd"
   ]
  },
  {
   "cell_type": "code",
   "execution_count": 72,
   "id": "f222a4af",
   "metadata": {},
   "outputs": [],
   "source": [
    "df1 = pd.read_excel('Telecom_Data.xlsx',sheet_name='Interstate')"
   ]
  },
  {
   "cell_type": "code",
   "execution_count": 33,
   "id": "94fac570",
   "metadata": {},
   "outputs": [
    {
     "data": {
      "text/html": [
       "<div>\n",
       "<style scoped>\n",
       "    .dataframe tbody tr th:only-of-type {\n",
       "        vertical-align: middle;\n",
       "    }\n",
       "\n",
       "    .dataframe tbody tr th {\n",
       "        vertical-align: top;\n",
       "    }\n",
       "\n",
       "    .dataframe thead th {\n",
       "        text-align: right;\n",
       "    }\n",
       "</style>\n",
       "<table border=\"1\" class=\"dataframe\">\n",
       "  <thead>\n",
       "    <tr style=\"text-align: right;\">\n",
       "      <th></th>\n",
       "      <th>5G_Uptime_USA</th>\n",
       "      <th>5G_Uptime_Sample_Virginia</th>\n",
       "      <th>5G_Uptime_Sample_NewYork</th>\n",
       "    </tr>\n",
       "  </thead>\n",
       "  <tbody>\n",
       "    <tr>\n",
       "      <th>0</th>\n",
       "      <td>91.399297</td>\n",
       "      <td>13.813170</td>\n",
       "      <td>5.641785</td>\n",
       "    </tr>\n",
       "    <tr>\n",
       "      <th>1</th>\n",
       "      <td>65.269333</td>\n",
       "      <td>56.197406</td>\n",
       "      <td>5.680149</td>\n",
       "    </tr>\n",
       "    <tr>\n",
       "      <th>2</th>\n",
       "      <td>79.047505</td>\n",
       "      <td>46.937360</td>\n",
       "      <td>6.486326</td>\n",
       "    </tr>\n",
       "    <tr>\n",
       "      <th>3</th>\n",
       "      <td>80.104638</td>\n",
       "      <td>68.779125</td>\n",
       "      <td>6.403918</td>\n",
       "    </tr>\n",
       "    <tr>\n",
       "      <th>4</th>\n",
       "      <td>83.363973</td>\n",
       "      <td>53.792061</td>\n",
       "      <td>1.318684</td>\n",
       "    </tr>\n",
       "  </tbody>\n",
       "</table>\n",
       "</div>"
      ],
      "text/plain": [
       "   5G_Uptime_USA  5G_Uptime_Sample_Virginia  5G_Uptime_Sample_NewYork\n",
       "0      91.399297                  13.813170                  5.641785\n",
       "1      65.269333                  56.197406                  5.680149\n",
       "2      79.047505                  46.937360                  6.486326\n",
       "3      80.104638                  68.779125                  6.403918\n",
       "4      83.363973                  53.792061                  1.318684"
      ]
     },
     "execution_count": 33,
     "metadata": {},
     "output_type": "execute_result"
    }
   ],
   "source": [
    "df1.head()"
   ]
  },
  {
   "cell_type": "markdown",
   "id": "f9e94362",
   "metadata": {},
   "source": [
    "### One Sample Z Test (Two Tail Test)\n",
    "\n",
    "We will test if -\n",
    "\n",
    "Average 5G uptime of the entire country is different from the Average 5G uptime of the state of Virginia\n",
    "\n",
    "H0 : The average 5G uptime is same\n",
    "\n",
    "H1 : The average 5G uptime is different"
   ]
  },
  {
   "cell_type": "code",
   "execution_count": 34,
   "id": "5778dc1c",
   "metadata": {},
   "outputs": [],
   "source": [
    "from statsmodels.stats.weightstats import ztest as ztest"
   ]
  },
  {
   "cell_type": "code",
   "execution_count": 46,
   "id": "ec361990",
   "metadata": {},
   "outputs": [
    {
     "data": {
      "text/plain": [
       "(-14.315916678698525, 1.7405385296791555e-46)"
      ]
     },
     "execution_count": 46,
     "metadata": {},
     "output_type": "execute_result"
    }
   ],
   "source": [
    "ztest(x1=df1['5G_Uptime_Sample_Virginia'].dropna(), value=df1['5G_Uptime_USA'].mean())"
   ]
  },
  {
   "cell_type": "code",
   "execution_count": 43,
   "id": "de7053da",
   "metadata": {},
   "outputs": [
    {
     "data": {
      "text/plain": [
       "50.26655196166505"
      ]
     },
     "execution_count": 43,
     "metadata": {},
     "output_type": "execute_result"
    }
   ],
   "source": [
    "df1['5G_Uptime_USA'].mean()"
   ]
  },
  {
   "cell_type": "code",
   "execution_count": 44,
   "id": "b2f7d03c",
   "metadata": {},
   "outputs": [
    {
     "data": {
      "text/plain": [
       "42.21368492619625"
      ]
     },
     "execution_count": 44,
     "metadata": {},
     "output_type": "execute_result"
    }
   ],
   "source": [
    "df1['5G_Uptime_Sample_Virginia'].mean()"
   ]
  },
  {
   "cell_type": "markdown",
   "id": "e9473e47",
   "metadata": {},
   "source": [
    "#### Conculsion :\n",
    "\n",
    "* Since p is less than 0.05, hence there is strong evidence to reject null hypothesis. Hence, we accept the alternate hypothesis\n",
    "\n",
    "* Therefore, the 5G uptime of USA and Virginia are different"
   ]
  },
  {
   "cell_type": "markdown",
   "id": "eadd162b",
   "metadata": {},
   "source": [
    "### Two Sample Unpaired(Independent) Z Test (Two Tail Test)\n",
    "\n",
    "We will test if -\n",
    "\n",
    "Average 5G uptime of the state of New York is different from the Average 5G uptime of the state of Virginia\n",
    "\n",
    "H0 : The average 5G uptime is same\n",
    "\n",
    "H1 : The average 5G uptime is different"
   ]
  },
  {
   "cell_type": "code",
   "execution_count": 50,
   "id": "09e06c5b",
   "metadata": {},
   "outputs": [
    {
     "data": {
      "text/html": [
       "<div>\n",
       "<style scoped>\n",
       "    .dataframe tbody tr th:only-of-type {\n",
       "        vertical-align: middle;\n",
       "    }\n",
       "\n",
       "    .dataframe tbody tr th {\n",
       "        vertical-align: top;\n",
       "    }\n",
       "\n",
       "    .dataframe thead th {\n",
       "        text-align: right;\n",
       "    }\n",
       "</style>\n",
       "<table border=\"1\" class=\"dataframe\">\n",
       "  <thead>\n",
       "    <tr style=\"text-align: right;\">\n",
       "      <th></th>\n",
       "      <th>5G_Uptime_USA</th>\n",
       "      <th>5G_Uptime_Sample_Virginia</th>\n",
       "      <th>5G_Uptime_Sample_NewYork</th>\n",
       "    </tr>\n",
       "  </thead>\n",
       "  <tbody>\n",
       "    <tr>\n",
       "      <th>0</th>\n",
       "      <td>42.724600</td>\n",
       "      <td>49.010883</td>\n",
       "      <td>41.829044</td>\n",
       "    </tr>\n",
       "    <tr>\n",
       "      <th>1</th>\n",
       "      <td>56.528225</td>\n",
       "      <td>54.303234</td>\n",
       "      <td>5.103674</td>\n",
       "    </tr>\n",
       "    <tr>\n",
       "      <th>2</th>\n",
       "      <td>80.508831</td>\n",
       "      <td>70.059357</td>\n",
       "      <td>54.324308</td>\n",
       "    </tr>\n",
       "    <tr>\n",
       "      <th>3</th>\n",
       "      <td>27.066819</td>\n",
       "      <td>0.920953</td>\n",
       "      <td>24.186311</td>\n",
       "    </tr>\n",
       "    <tr>\n",
       "      <th>4</th>\n",
       "      <td>68.156297</td>\n",
       "      <td>1.489179</td>\n",
       "      <td>63.391426</td>\n",
       "    </tr>\n",
       "  </tbody>\n",
       "</table>\n",
       "</div>"
      ],
      "text/plain": [
       "   5G_Uptime_USA  5G_Uptime_Sample_Virginia  5G_Uptime_Sample_NewYork\n",
       "0      42.724600                  49.010883                 41.829044\n",
       "1      56.528225                  54.303234                  5.103674\n",
       "2      80.508831                  70.059357                 54.324308\n",
       "3      27.066819                   0.920953                 24.186311\n",
       "4      68.156297                   1.489179                 63.391426"
      ]
     },
     "execution_count": 50,
     "metadata": {},
     "output_type": "execute_result"
    }
   ],
   "source": [
    "df1.head()"
   ]
  },
  {
   "cell_type": "code",
   "execution_count": 71,
   "id": "bfe23749",
   "metadata": {},
   "outputs": [
    {
     "data": {
      "text/plain": [
       "(1.0635127943159433, 0.287549466179164)"
      ]
     },
     "execution_count": 71,
     "metadata": {},
     "output_type": "execute_result"
    }
   ],
   "source": [
    "ztest(x1=df1['5G_Uptime_Sample_Virginia'].dropna(),x2=df1['5G_Uptime_Sample_NewYork'].dropna(),value=0.08)"
   ]
  },
  {
   "cell_type": "code",
   "execution_count": 62,
   "id": "78d73253",
   "metadata": {},
   "outputs": [
    {
     "data": {
      "text/plain": [
       "42.9014226833448"
      ]
     },
     "execution_count": 62,
     "metadata": {},
     "output_type": "execute_result"
    }
   ],
   "source": [
    "df1['5G_Uptime_Sample_Virginia'].mean()"
   ]
  },
  {
   "cell_type": "code",
   "execution_count": 63,
   "id": "ea55283f",
   "metadata": {},
   "outputs": [
    {
     "data": {
      "text/plain": [
       "42.00449322706868"
      ]
     },
     "execution_count": 63,
     "metadata": {},
     "output_type": "execute_result"
    }
   ],
   "source": [
    "df1['5G_Uptime_Sample_NewYork'].mean()"
   ]
  },
  {
   "cell_type": "markdown",
   "id": "1bf99ebc",
   "metadata": {},
   "source": [
    "#### Conculsion :\n",
    "\n",
    "* Since p is greater than 0.05, hence there is no strong evidence to reject null hypothesis. Hence, we accept the null hypothesis\n",
    "\n",
    "* Therefore, the 5G uptime of New York and Virginia are same"
   ]
  },
  {
   "cell_type": "markdown",
   "id": "2fdc1cd9",
   "metadata": {},
   "source": [
    "### Two Sample Paired(Dependent) Z Test (Two Tail Test)\n",
    "\n",
    "We will test if -\n",
    "\n",
    "Average 5G uptime of the state of Virginia is different before and after a Software Upgrade\n",
    "\n",
    "H0 : The average 5G uptime is same\n",
    "\n",
    "H1 : The average 5G uptime is different"
   ]
  },
  {
   "cell_type": "code",
   "execution_count": 73,
   "id": "a5b4a64f",
   "metadata": {},
   "outputs": [
    {
     "data": {
      "text/html": [
       "<div>\n",
       "<style scoped>\n",
       "    .dataframe tbody tr th:only-of-type {\n",
       "        vertical-align: middle;\n",
       "    }\n",
       "\n",
       "    .dataframe tbody tr th {\n",
       "        vertical-align: top;\n",
       "    }\n",
       "\n",
       "    .dataframe thead th {\n",
       "        text-align: right;\n",
       "    }\n",
       "</style>\n",
       "<table border=\"1\" class=\"dataframe\">\n",
       "  <thead>\n",
       "    <tr style=\"text-align: right;\">\n",
       "      <th></th>\n",
       "      <th>5G_Uptime_USA</th>\n",
       "      <th>5G_Uptime_Sample_Virginia_Pre</th>\n",
       "      <th>5G_Uptime_Sample_Virginia_Post</th>\n",
       "    </tr>\n",
       "  </thead>\n",
       "  <tbody>\n",
       "    <tr>\n",
       "      <th>0</th>\n",
       "      <td>62.945735</td>\n",
       "      <td>26.600714</td>\n",
       "      <td>8.880596</td>\n",
       "    </tr>\n",
       "    <tr>\n",
       "      <th>1</th>\n",
       "      <td>71.710942</td>\n",
       "      <td>18.766009</td>\n",
       "      <td>1.832574</td>\n",
       "    </tr>\n",
       "    <tr>\n",
       "      <th>2</th>\n",
       "      <td>47.003414</td>\n",
       "      <td>56.071753</td>\n",
       "      <td>12.014310</td>\n",
       "    </tr>\n",
       "    <tr>\n",
       "      <th>3</th>\n",
       "      <td>47.400982</td>\n",
       "      <td>43.177482</td>\n",
       "      <td>9.697499</td>\n",
       "    </tr>\n",
       "    <tr>\n",
       "      <th>4</th>\n",
       "      <td>49.815520</td>\n",
       "      <td>80.109907</td>\n",
       "      <td>2.712348</td>\n",
       "    </tr>\n",
       "  </tbody>\n",
       "</table>\n",
       "</div>"
      ],
      "text/plain": [
       "   5G_Uptime_USA  5G_Uptime_Sample_Virginia_Pre   \n",
       "0      62.945735                      26.600714  \\\n",
       "1      71.710942                      18.766009   \n",
       "2      47.003414                      56.071753   \n",
       "3      47.400982                      43.177482   \n",
       "4      49.815520                      80.109907   \n",
       "\n",
       "   5G_Uptime_Sample_Virginia_Post  \n",
       "0                        8.880596  \n",
       "1                        1.832574  \n",
       "2                       12.014310  \n",
       "3                        9.697499  \n",
       "4                        2.712348  "
      ]
     },
     "execution_count": 73,
     "metadata": {},
     "output_type": "execute_result"
    }
   ],
   "source": [
    "df2 = pd.read_excel('Telecom_Data.xlsx',sheet_name='Virginia')\n",
    "df2.head()"
   ]
  },
  {
   "cell_type": "code",
   "execution_count": 74,
   "id": "f5f0c051",
   "metadata": {},
   "outputs": [
    {
     "data": {
      "text/plain": [
       "34.43502994868608"
      ]
     },
     "execution_count": 74,
     "metadata": {},
     "output_type": "execute_result"
    }
   ],
   "source": [
    "df2['5G_Uptime_Sample_Virginia_Pre'].mean()-df2['5G_Uptime_Sample_Virginia_Post'].mean()"
   ]
  },
  {
   "cell_type": "code",
   "execution_count": 86,
   "id": "ba82bdf1",
   "metadata": {},
   "outputs": [
    {
     "data": {
      "text/plain": [
       "(61.82120659164902, 0.0)"
      ]
     },
     "execution_count": 86,
     "metadata": {},
     "output_type": "execute_result"
    }
   ],
   "source": [
    "ztest(x1=df2['5G_Uptime_Sample_Virginia_Pre'].dropna(),x2=df2['5G_Uptime_Sample_Virginia_Post'].dropna())"
   ]
  },
  {
   "cell_type": "code",
   "execution_count": 87,
   "id": "472b150a",
   "metadata": {},
   "outputs": [
    {
     "data": {
      "text/plain": [
       "42.14211473942107"
      ]
     },
     "execution_count": 87,
     "metadata": {},
     "output_type": "execute_result"
    }
   ],
   "source": [
    "df2['5G_Uptime_Sample_Virginia_Pre'].mean()"
   ]
  },
  {
   "cell_type": "code",
   "execution_count": 88,
   "id": "2cabdf2c",
   "metadata": {},
   "outputs": [
    {
     "data": {
      "text/plain": [
       "7.707084790734987"
      ]
     },
     "execution_count": 88,
     "metadata": {},
     "output_type": "execute_result"
    }
   ],
   "source": [
    "df2['5G_Uptime_Sample_Virginia_Post'].mean()"
   ]
  },
  {
   "cell_type": "markdown",
   "id": "937e5011",
   "metadata": {},
   "source": [
    "#### Conculsion :\n",
    "\n",
    "* Since p is less than 0.05, hence there is strong evidence to reject null hypothesis. Hence, we accept the alternate hypothesis\n",
    "\n",
    "* Therefore, the 5G uptime of New York and Virginia are different"
   ]
  },
  {
   "cell_type": "code",
   "execution_count": null,
   "id": "9352e65e",
   "metadata": {},
   "outputs": [],
   "source": []
  }
 ],
 "metadata": {
  "kernelspec": {
   "display_name": "Python 3 (ipykernel)",
   "language": "python",
   "name": "python3"
  },
  "language_info": {
   "codemirror_mode": {
    "name": "ipython",
    "version": 3
   },
   "file_extension": ".py",
   "mimetype": "text/x-python",
   "name": "python",
   "nbconvert_exporter": "python",
   "pygments_lexer": "ipython3",
   "version": "3.11.0"
  }
 },
 "nbformat": 4,
 "nbformat_minor": 5
}
